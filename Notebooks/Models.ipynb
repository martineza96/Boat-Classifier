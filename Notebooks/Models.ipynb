{
 "cells": [
  {
   "cell_type": "markdown",
   "metadata": {},
   "source": [
    "# VGG 16 Model"
   ]
  },
  {
   "cell_type": "code",
   "execution_count": 2,
   "metadata": {},
   "outputs": [],
   "source": [
    "# vgg16_model = tf.keras.applications.vgg16.VGG16()\n",
    "\n",
    "# Dir_Class_Model = Sequential()\n",
    "# for layer in vgg16_model.layers[:-1]:\n",
    "#     Dir_Class_Model.add(layer)\n",
    "    \n",
    "# for layer in Dir_Class_Model.layers[:-1]:\n",
    "#     layer.trainable = False\n",
    "    \n",
    "# num_classes = 9\n",
    "# Dir_Class_Model.add(Dense(num_classes, activation='softmax'))\n",
    "\n",
    "# Dir_Class_Model.summary()\n",
    "\n",
    "# opt = tf.keras.optimizers.SGD(learning_rate=0.001)\n",
    "\n",
    "# Dir_Class_Model.compile(\n",
    "#     optimizer=opt,\n",
    "#     loss='categorical_crossentropy',\n",
    "#     metrics=['accuracy']\n",
    "# )\n",
    "\n",
    "\n",
    "# Dir_Class_Model.fit(train_batches, validation_data=valid_batches, epochs=8, verbose=1)\n",
    "\n",
    "\n"
   ]
  },
  {
   "cell_type": "markdown",
   "metadata": {},
   "source": [
    "# EfficientNetB0"
   ]
  },
  {
   "cell_type": "code",
   "execution_count": 3,
   "metadata": {},
   "outputs": [],
   "source": [
    "# base_model = efn.EfficientNetB0(input_shape = (224, 224, 3), include_top = False, weights = 'noisy-student')\n",
    "# for layer in base_model.layers:\n",
    "#     layer.trainable = False\n",
    "\n",
    "# x = base_model.output\n",
    "# x = Flatten()(x)\n",
    "# x = Dense(1024, activation=\"relu\")(x)\n",
    "# x = Dropout(0.5)(x)\n",
    "# predictions = Dense(9, activation=\"softmax\")(x)\n",
    "# model_final = Model(base_model.input,predictions)\n",
    "    \n",
    "# model_final.compile(optimizers.RMSprop(lr=0.0001,decay=1e-6),loss='categorical_crossentropy',metrics=['accuracy'])\n",
    "\n",
    "# eff_history = model_final.fit_generator(train_batches, validation_data=valid_batches, steps_per_epoch=120, epochs=10)\n",
    "\n"
   ]
  },
  {
   "cell_type": "markdown",
   "metadata": {},
   "source": [
    "# EfficientNetB7"
   ]
  },
  {
   "cell_type": "code",
   "execution_count": null,
   "metadata": {},
   "outputs": [],
   "source": [
    "# last_model = efn.EfficientNetB7(input_shape = (224, 224, 3), include_top = False, weights = 'imagenet')\n",
    "# for layer in last_model.layers:\n",
    "#     layer.trainable = False\n",
    "# x1 = last_model.output\n",
    "# x1 = Flatten()(x1)\n",
    "# x1 = Dense(32, activation=\"selu\")(x1)\n",
    "# x1 = Dropout(0.5)(x1)\n",
    "# predictions = Dense(9, activation=\"softmax\")(x1)\n",
    "# model_final_2 = Model(last_model.input,predictions)\n",
    "# opt = optimizers.RMSprop(lr=0.001,decay=1e-6)\n",
    "# model_final_2.compile(loss='categorical_crossentropy', optimizer=opt,metrics=['accuracy'])\n",
    "# eff_history_2 = model_final_2.fit(train_batches, validation_data=valid_batches, steps_per_epoch=120, epochs=10)"
   ]
  }
 ],
 "metadata": {
  "kernelspec": {
   "display_name": "Python 3",
   "language": "python",
   "name": "python3"
  },
  "language_info": {
   "codemirror_mode": {
    "name": "ipython",
    "version": 3
   },
   "file_extension": ".py",
   "mimetype": "text/x-python",
   "name": "python",
   "nbconvert_exporter": "python",
   "pygments_lexer": "ipython3",
   "version": "3.7.7"
  }
 },
 "nbformat": 4,
 "nbformat_minor": 4
}
