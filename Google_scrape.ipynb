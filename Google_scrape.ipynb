{
 "cells": [
  {
   "cell_type": "code",
   "execution_count": 7,
   "metadata": {},
   "outputs": [
    {
     "data": {
      "text/plain": [
       "True"
      ]
     },
     "execution_count": 7,
     "metadata": {},
     "output_type": "execute_result"
    }
   ],
   "source": [
    "import os\n",
    "import sys\n",
    "import requests\n",
    "import time\n",
    "from io import BytesIO\n",
    "from PIL import Image\n",
    "from bs4 import BeautifulSoup\n",
    "from selenium import webdriver\n",
    "chromedriver_path = '/Users/AlexMartinez/Desktop/DSI/Capstone 2/chromedriver'\n",
    "os.path.exists(chromedriver_path)"
   ]
  },
  {
   "cell_type": "code",
   "execution_count": 8,
   "metadata": {},
   "outputs": [
    {
     "name": "stdout",
     "output_type": "stream",
     "text": [
      "/Users/AlexMartinez/Desktop/DSI/Capstone 2\n"
     ]
    }
   ],
   "source": [
    "!pwd"
   ]
  },
  {
   "cell_type": "code",
   "execution_count": 11,
   "metadata": {},
   "outputs": [],
   "source": [
    "def google_full_scrape(search, path):\n",
    "    # Create folder for images\n",
    "    path = os.path.expanduser(f'{path}')\n",
    "    os.mkdir(path)\n",
    "    # Transform string into google search url \n",
    "    search = search.replace(' ', '+')\n",
    "    url = f'''https://www.google.com/search?as_st=y&tbm=isch&as_q=\n",
    "              {search}&as_epq=&as_oq=&as_eq=&imgar=&imgcolor=&imgtype=\n",
    "              &cr=&as_sitesearch=&as_filetype=&tbs=&sfr=vfe&safe=images\n",
    "           '''\n",
    "    # Initiate selenium and search url in chrome\n",
    "    driver = webdriver.Chrome(executable_path=chromedriver_path)\n",
    "    driver.get(url)\n",
    "    scroll_pause_time = 1\n",
    "    # Get scroll height\n",
    "    last_height = driver.execute_script(\"return document.body.scrollHeight\")\n",
    "    while True:\n",
    "        # Scroll down to bottom\n",
    "        driver.execute_script(\"window.scrollTo(0, document.body.scrollHeight);\")\n",
    "        # Wait to load page\n",
    "        time.sleep(scroll_pause_time)\n",
    "        # Calculate new scroll height and compare with last scroll height\n",
    "        new_height = driver.execute_script(\"return document.body.scrollHeight\")\n",
    "        # Check if scroll height has not changed \n",
    "        if new_height == last_height:\n",
    "            # Check for show more button\n",
    "            try:\n",
    "                driver.find_element_by_css_selector(\"input[jsaction='Pmjnye']\").click()\n",
    "                continue\n",
    "            except:\n",
    "                break\n",
    "        # Set scroll height        \n",
    "        last_height = new_height\n",
    "    # Save page source as beautiful soup class    \n",
    "    page = driver.page_source\n",
    "    soup = BeautifulSoup(page, 'html.parser')\n",
    "    # Find all img tags\n",
    "    images = soup.find_all('img')\n",
    "    url_strings = []\n",
    "    # Create list of all image urls\n",
    "    for img in images:\n",
    "        pic = img.get('data-src')\n",
    "        if pic == None:\n",
    "            continue\n",
    "        url_strings.append(pic)\n",
    "    url_strings = url_strings[1:]\n",
    "    # Download images from urls to path\n",
    "    accum = 0\n",
    "    for pic in url_strings:\n",
    "        try:\n",
    "            responce = requests.get(str(pic))\n",
    "            img = Image.open(BytesIO(responce.content))\n",
    "            img.save(f\"{path}/{accum}.jpg\")\n",
    "            accum += 1\n",
    "        except:\n",
    "            print(f\" #{accum} picture bad\")\n",
    "            accum += 1\n",
    "    # Close browser driver       \n",
    "    driver.close()"
   ]
  },
  {
   "cell_type": "code",
   "execution_count": 12,
   "metadata": {},
   "outputs": [
    {
     "name": "stdout",
     "output_type": "stream",
     "text": [
      " #277 picture bad\n",
      " #427 picture bad\n",
      " #428 picture bad\n"
     ]
    }
   ],
   "source": [
    "google_full_scrape('fishing boats', 'Fishing Boats')"
   ]
  },
  {
   "cell_type": "code",
   "execution_count": 13,
   "metadata": {},
   "outputs": [
    {
     "name": "stdout",
     "output_type": "stream",
     "text": [
      " #4 picture bad\n",
      " #269 picture bad\n",
      " #475 picture bad\n"
     ]
    }
   ],
   "source": [
    "google_full_scrape('cruise ships', 'Cruise Ships')"
   ]
  },
  {
   "cell_type": "code",
   "execution_count": 14,
   "metadata": {},
   "outputs": [
    {
     "name": "stdout",
     "output_type": "stream",
     "text": [
      " #55 picture bad\n",
      " #56 picture bad\n",
      " #121 picture bad\n",
      " #362 picture bad\n",
      " #595 picture bad\n"
     ]
    }
   ],
   "source": [
    "google_full_scrape('kayaks water', 'Kayaks')"
   ]
  },
  {
   "cell_type": "code",
   "execution_count": 15,
   "metadata": {},
   "outputs": [],
   "source": [
    "google_full_scrape('US Navy Destroyer', 'Destroyers')"
   ]
  },
  {
   "cell_type": "code",
   "execution_count": 16,
   "metadata": {},
   "outputs": [],
   "source": [
    "google_full_scrape('US Navy Carrier', 'Carriers')"
   ]
  },
  {
   "cell_type": "code",
   "execution_count": 17,
   "metadata": {},
   "outputs": [
    {
     "name": "stdout",
     "output_type": "stream",
     "text": [
      " #4 picture bad\n",
      " #5 picture bad\n",
      " #54 picture bad\n",
      " #112 picture bad\n",
      " #269 picture bad\n",
      " #270 picture bad\n",
      " #295 picture bad\n",
      " #542 picture bad\n"
     ]
    }
   ],
   "source": [
    "google_full_scrape('Sailboats', 'Sailboats')"
   ]
  },
  {
   "cell_type": "code",
   "execution_count": 18,
   "metadata": {},
   "outputs": [
    {
     "name": "stdout",
     "output_type": "stream",
     "text": [
      " #114 picture bad\n",
      " #203 picture bad\n",
      " #273 picture bad\n",
      " #366 picture bad\n",
      " #388 picture bad\n",
      " #441 picture bad\n",
      " #444 picture bad\n",
      " #467 picture bad\n"
     ]
    }
   ],
   "source": [
    "google_full_scrape('US Submarines', 'Submarines')"
   ]
  },
  {
   "cell_type": "code",
   "execution_count": 19,
   "metadata": {},
   "outputs": [
    {
     "name": "stdout",
     "output_type": "stream",
     "text": [
      " #136 picture bad\n",
      " #289 picture bad\n",
      " #361 picture bad\n",
      " #375 picture bad\n",
      " #408 picture bad\n",
      " #448 picture bad\n",
      " #482 picture bad\n",
      " #547 picture bad\n",
      " #558 picture bad\n"
     ]
    }
   ],
   "source": [
    "google_full_scrape('US Security boats', 'Security Boats')"
   ]
  },
  {
   "cell_type": "code",
   "execution_count": 20,
   "metadata": {},
   "outputs": [
    {
     "name": "stdout",
     "output_type": "stream",
     "text": [
      " #38 picture bad\n",
      " #52 picture bad\n",
      " #59 picture bad\n",
      " #171 picture bad\n",
      " #322 picture bad\n",
      " #341 picture bad\n",
      " #508 picture bad\n"
     ]
    }
   ],
   "source": [
    "google_full_scrape('Tug boat', 'Tugs')"
   ]
  },
  {
   "cell_type": "code",
   "execution_count": null,
   "metadata": {},
   "outputs": [],
   "source": []
  }
 ],
 "metadata": {
  "kernelspec": {
   "display_name": "Python 3",
   "language": "python",
   "name": "python3"
  },
  "language_info": {
   "codemirror_mode": {
    "name": "ipython",
    "version": 3
   },
   "file_extension": ".py",
   "mimetype": "text/x-python",
   "name": "python",
   "nbconvert_exporter": "python",
   "pygments_lexer": "ipython3",
   "version": "3.7.7"
  }
 },
 "nbformat": 4,
 "nbformat_minor": 4
}
